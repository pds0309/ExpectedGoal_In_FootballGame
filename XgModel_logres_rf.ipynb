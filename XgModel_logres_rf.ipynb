{
 "cells": [
  {
   "cell_type": "code",
   "execution_count": 1,
   "id": "58d9ee91",
   "metadata": {},
   "outputs": [],
   "source": [
    "import numpy as np\n",
    "import pandas as pd\n",
    "from sklearn.metrics import classification_report, confusion_matrix\n",
    "import matplotlib.pyplot as plt\n",
    "import seaborn as sns\n",
    "import sklearn.metrics as metrics\n",
    "from sklearn.metrics import roc_curve\n",
    "from sklearn.metrics import roc_auc_score\n",
    "from sklearn.metrics import accuracy_score\n",
    "from sklearn.metrics import f1_score\n",
    "from sklearn.metrics import precision_recall_curve\n",
    "from sklearn.metrics import plot_precision_recall_curve\n",
    "from sklearn.metrics import log_loss\n",
    "from sklearn.calibration import calibration_curve\n",
    "from sklearn.pipeline import make_pipeline\n",
    "from sklearn.model_selection import GridSearchCV"
   ]
  },
  {
   "cell_type": "code",
   "execution_count": 2,
   "id": "e1a2812e",
   "metadata": {},
   "outputs": [
    {
     "data": {
      "text/html": [
       "<div>\n",
       "<style scoped>\n",
       "    .dataframe tbody tr th:only-of-type {\n",
       "        vertical-align: middle;\n",
       "    }\n",
       "\n",
       "    .dataframe tbody tr th {\n",
       "        vertical-align: top;\n",
       "    }\n",
       "\n",
       "    .dataframe thead th {\n",
       "        text-align: right;\n",
       "    }\n",
       "</style>\n",
       "<table border=\"1\" class=\"dataframe\">\n",
       "  <thead>\n",
       "    <tr style=\"text-align: right;\">\n",
       "      <th></th>\n",
       "      <th>assist</th>\n",
       "      <th>asx</th>\n",
       "      <th>asy</th>\n",
       "      <th>fin</th>\n",
       "      <th>hed</th>\n",
       "      <th>inv</th>\n",
       "      <th>nom</th>\n",
       "      <th>res</th>\n",
       "      <th>x</th>\n",
       "      <th>y</th>\n",
       "    </tr>\n",
       "  </thead>\n",
       "  <tbody>\n",
       "    <tr>\n",
       "      <th>0</th>\n",
       "      <td>0</td>\n",
       "      <td>0.0</td>\n",
       "      <td>0.0</td>\n",
       "      <td>0</td>\n",
       "      <td>0</td>\n",
       "      <td>18</td>\n",
       "      <td>1</td>\n",
       "      <td>0</td>\n",
       "      <td>0.810456</td>\n",
       "      <td>0.401598</td>\n",
       "    </tr>\n",
       "    <tr>\n",
       "      <th>1</th>\n",
       "      <td>0</td>\n",
       "      <td>0.0</td>\n",
       "      <td>0.0</td>\n",
       "      <td>0</td>\n",
       "      <td>1</td>\n",
       "      <td>4</td>\n",
       "      <td>0</td>\n",
       "      <td>0</td>\n",
       "      <td>0.876681</td>\n",
       "      <td>0.497257</td>\n",
       "    </tr>\n",
       "    <tr>\n",
       "      <th>2</th>\n",
       "      <td>0</td>\n",
       "      <td>0.0</td>\n",
       "      <td>0.0</td>\n",
       "      <td>0</td>\n",
       "      <td>0</td>\n",
       "      <td>12</td>\n",
       "      <td>1</td>\n",
       "      <td>0</td>\n",
       "      <td>0.735775</td>\n",
       "      <td>0.395596</td>\n",
       "    </tr>\n",
       "    <tr>\n",
       "      <th>3</th>\n",
       "      <td>0</td>\n",
       "      <td>0.0</td>\n",
       "      <td>0.0</td>\n",
       "      <td>0</td>\n",
       "      <td>0</td>\n",
       "      <td>2</td>\n",
       "      <td>1</td>\n",
       "      <td>1</td>\n",
       "      <td>0.870968</td>\n",
       "      <td>0.551670</td>\n",
       "    </tr>\n",
       "    <tr>\n",
       "      <th>4</th>\n",
       "      <td>0</td>\n",
       "      <td>0.0</td>\n",
       "      <td>0.0</td>\n",
       "      <td>0</td>\n",
       "      <td>1</td>\n",
       "      <td>11</td>\n",
       "      <td>0</td>\n",
       "      <td>0</td>\n",
       "      <td>0.924941</td>\n",
       "      <td>0.417424</td>\n",
       "    </tr>\n",
       "  </tbody>\n",
       "</table>\n",
       "</div>"
      ],
      "text/plain": [
       "   assist  asx  asy  fin  hed  inv  nom  res         x         y\n",
       "0       0  0.0  0.0    0    0   18    1    0  0.810456  0.401598\n",
       "1       0  0.0  0.0    0    1    4    0    0  0.876681  0.497257\n",
       "2       0  0.0  0.0    0    0   12    1    0  0.735775  0.395596\n",
       "3       0  0.0  0.0    0    0    2    1    1  0.870968  0.551670\n",
       "4       0  0.0  0.0    0    1   11    0    0  0.924941  0.417424"
      ]
     },
     "execution_count": 2,
     "metadata": {},
     "output_type": "execute_result"
    }
   ],
   "source": [
    "DATA = pd.read_csv(r\"C:/shoot/SHOOTS3.csv\" , encoding = \"CP949\" , sep=\",\")\n",
    "DATA.head()"
   ]
  },
  {
   "cell_type": "code",
   "execution_count": 3,
   "id": "453bc66d",
   "metadata": {},
   "outputs": [
    {
     "data": {
      "text/plain": [
       "assist      int64\n",
       "asx       float64\n",
       "asy       float64\n",
       "fin         int64\n",
       "hed         int64\n",
       "inv         int64\n",
       "nom         int64\n",
       "res         int64\n",
       "x         float64\n",
       "y         float64\n",
       "dtype: object"
      ]
     },
     "execution_count": 3,
     "metadata": {},
     "output_type": "execute_result"
    }
   ],
   "source": [
    "DATA.dtypes"
   ]
  },
  {
   "cell_type": "markdown",
   "id": "ab255a80",
   "metadata": {},
   "source": [
    "#### 데이터셋 Train , Test 분리 - 학습 80%"
   ]
  },
  {
   "cell_type": "code",
   "execution_count": 4,
   "id": "b2dda06c",
   "metadata": {},
   "outputs": [
    {
     "name": "stdout",
     "output_type": "stream",
     "text": [
      "X_train :  (228375, 9)\n",
      "y_train :  (228375,)\n",
      "X_test :  (57094, 9)\n",
      "y_test :  (57094,)\n"
     ]
    }
   ],
   "source": [
    "from sklearn.model_selection import train_test_split\n",
    "X_train , X_test , y_train , y_test = train_test_split(\n",
    "DATA.drop('res', axis=1) , DATA['res'] , random_state = 0 , shuffle=False,test_size = 0.2 )\n",
    "print(\"X_train : \" , X_train.shape)\n",
    "print(\"y_train : \" , y_train.shape)\n",
    "print(\"X_test : \" , X_test.shape)\n",
    "print(\"y_test : \" , y_test.shape)"
   ]
  },
  {
   "cell_type": "markdown",
   "id": "8f4fdf7d",
   "metadata": {},
   "source": [
    "#### 로지스틱 분류 최적 파라미터 찾기"
   ]
  },
  {
   "cell_type": "code",
   "execution_count": 5,
   "id": "a20173fd",
   "metadata": {},
   "outputs": [],
   "source": [
    "from sklearn.model_selection import GridSearchCV\n",
    "from sklearn.linear_model import LogisticRegression\n",
    "from sklearn.pipeline import make_pipeline\n",
    "pipe_1=make_pipeline(LogisticRegression(max_iter=500))\n",
    "grid_values = [{'logisticregression__C': [0.001,0.01,0.1,1,3,5,7,10,100,200]}]"
   ]
  },
  {
   "cell_type": "code",
   "execution_count": 6,
   "id": "5c0ac6f4",
   "metadata": {},
   "outputs": [],
   "source": [
    "grid_1 = GridSearchCV(pipe_1, param_grid = grid_values,scoring = 'f1',verbose=1, cv=5)"
   ]
  },
  {
   "cell_type": "code",
   "execution_count": 7,
   "id": "5d50184f",
   "metadata": {},
   "outputs": [
    {
     "name": "stdout",
     "output_type": "stream",
     "text": [
      "Fitting 5 folds for each of 10 candidates, totalling 50 fits\n"
     ]
    },
    {
     "data": {
      "text/plain": [
       "GridSearchCV(cv=5,\n",
       "             estimator=Pipeline(steps=[('logisticregression',\n",
       "                                        LogisticRegression(max_iter=500))]),\n",
       "             param_grid=[{'logisticregression__C': [0.001, 0.01, 0.1, 1, 3, 5,\n",
       "                                                    7, 10, 100, 200]}],\n",
       "             scoring='f1', verbose=1)"
      ]
     },
     "execution_count": 7,
     "metadata": {},
     "output_type": "execute_result"
    }
   ],
   "source": [
    "grid_1.fit(X_train,y_train)"
   ]
  },
  {
   "cell_type": "code",
   "execution_count": 8,
   "id": "5c3a9128",
   "metadata": {},
   "outputs": [
    {
     "name": "stdout",
     "output_type": "stream",
     "text": [
      "0.37686442124512115\n",
      "{'logisticregression__C': 200}\n"
     ]
    }
   ],
   "source": [
    "print(grid_1.best_score_)\n",
    "print(grid_1.best_params_)"
   ]
  },
  {
   "cell_type": "markdown",
   "id": "a9c75403",
   "metadata": {},
   "source": [
    "##### 최적 파라미터로 학습"
   ]
  },
  {
   "cell_type": "code",
   "execution_count": 9,
   "id": "030d3254",
   "metadata": {},
   "outputs": [
    {
     "data": {
      "text/plain": [
       "LogisticRegression(C=200, max_iter=500)"
      ]
     },
     "execution_count": 9,
     "metadata": {},
     "output_type": "execute_result"
    }
   ],
   "source": [
    "logres = LogisticRegression(max_iter=500 , C = 200)\n",
    "logres.fit(X_train, y_train)"
   ]
  },
  {
   "cell_type": "markdown",
   "id": "74a0d738",
   "metadata": {},
   "source": [
    "##### 훈련, 테스트 세트 log loss , roc auc 점수 파악"
   ]
  },
  {
   "cell_type": "code",
   "execution_count": 10,
   "id": "69c2ff0e",
   "metadata": {},
   "outputs": [
    {
     "name": "stdout",
     "output_type": "stream",
     "text": [
      "훈련셋 로그손실 : 0.5753\n",
      "훈련셋 ROC AUC : 0.713\n"
     ]
    }
   ],
   "source": [
    "train_y_hat=logres.predict_proba(X_train)\n",
    "logres_train_log_loss=log_loss(y_train, train_y_hat[:,1])\n",
    "logres_train_roc_auc=roc_auc_score(y_train, train_y_hat[:,1])\n",
    "print('훈련셋 로그손실 : ' +str(round(logres_train_log_loss, 4)))\n",
    "print('훈련셋 ROC AUC : ' +str(round(logres_train_roc_auc, 3)))"
   ]
  },
  {
   "cell_type": "code",
   "execution_count": 11,
   "id": "94937752",
   "metadata": {},
   "outputs": [
    {
     "name": "stdout",
     "output_type": "stream",
     "text": [
      "테스트셋 로그손실 : 0.5756\n",
      "테스트셋 ROC AUC : 0.712\n"
     ]
    }
   ],
   "source": [
    "test_y_hat=logres.predict_proba(X_test)\n",
    "logres_test_log_loss=log_loss(y_test, test_y_hat[:,1])\n",
    "logres_test_roc_auc=roc_auc_score(y_test, test_y_hat[:,1])\n",
    "print('테스트셋 로그손실 : ' +str(round(logres_test_log_loss, 4)))\n",
    "print('테스트셋 ROC AUC : ' +str(round(logres_test_roc_auc, 3)))"
   ]
  },
  {
   "cell_type": "markdown",
   "id": "72d13cf2",
   "metadata": {},
   "source": [
    "과적합과 같은 문제는 없는 것으로 보인다. "
   ]
  },
  {
   "cell_type": "markdown",
   "id": "9dead842",
   "metadata": {},
   "source": [
    "##### ROC_AUC Curve\n",
    "\n",
    "거짓양성 비율은 낮으면서 실제 양성비율이 높을 수록(왼쪽위에 근접할수록) 좋음"
   ]
  },
  {
   "cell_type": "code",
   "execution_count": 12,
   "id": "5d744f0f",
   "metadata": {},
   "outputs": [],
   "source": [
    "train_fpr, train_tpr, train_thresholds = roc_curve(y_true=y_train, y_score=train_y_hat[:,1])\n",
    "test_fpr, test_tpr, test_thresholds = roc_curve(y_true=y_test, y_score=test_y_hat[:,1])"
   ]
  },
  {
   "cell_type": "code",
   "execution_count": 13,
   "id": "982cea01",
   "metadata": {},
   "outputs": [
    {
     "data": {
      "image/png": "[encoded data removed]",
      "text/plain": [
       "<Figure size 432x288 with 1 Axes>"
      ]
     },
     "metadata": {
      "needs_background": "light"
     },
     "output_type": "display_data"
    }
   ],
   "source": [
    "#close_zero = np.argmin(np.abs(test_thresholds))\n",
    "plt.plot(train_fpr, train_tpr, label='Train ROC AUC')\n",
    "plt.plot(test_fpr, test_tpr, label='Test ROC AUC')\n",
    "plt.plot([0, 1], [0, 1], color = 'black', linewidth = 2, linestyle = '--')\n",
    "plt.xlabel('FP Rate')\n",
    "plt.ylabel('TP Rate')\n",
    "#plt.plot(train_fpr[close_zero],train_tpr[close_zero],'o',markersize=10,fillstyle='none',c='k',mew=2)\n",
    "plt.legend()\n",
    "plt.title('ROC AUC Curve Logres Model Train vs Test')\n",
    "plt.show()"
   ]
  },
  {
   "cell_type": "markdown",
   "id": "36f84591",
   "metadata": {},
   "source": [
    "##### Calibration Curve\n",
    "보정도 확인 - 예측확률과 실제확률의 관계가 45도 직선에 가까운지 파악"
   ]
  },
  {
   "cell_type": "code",
   "execution_count": 14,
   "id": "f210cc8a",
   "metadata": {},
   "outputs": [],
   "source": [
    "logres_ytest_prob = logres.predict_proba(X_test)[: , 1]"
   ]
  },
  {
   "cell_type": "code",
   "execution_count": 15,
   "id": "6998f8cc",
   "metadata": {},
   "outputs": [
    {
     "data": {
      "text/plain": [
       "Text(0.5, 1.0, 'Logres Calibration Curve')"
      ]
     },
     "execution_count": 15,
     "metadata": {},
     "output_type": "execute_result"
    },
    {
     "data": {
      "image/png": "[encoded data removed]",
      "text/plain": [
       "<Figure size 432x288 with 1 Axes>"
      ]
     },
     "metadata": {
      "needs_background": "light"
     },
     "output_type": "display_data"
    }
   ],
   "source": [
    "fraction_of_positives1, mean_predicted_values1 = calibration_curve(y_test, logres_ytest_prob, n_bins=10)\n",
    "plt.plot(mean_predicted_values1, fraction_of_positives1, 's-')\n",
    "plt.plot([0, 1], [0, 1], '--', color='gray')\n",
    "plt.title('Logres Calibration Curve')"
   ]
  },
  {
   "cell_type": "markdown",
   "id": "d786fcbc",
   "metadata": {},
   "source": [
    "#### 랜덤포레스트 최적 파라미터 찾기"
   ]
  },
  {
   "cell_type": "code",
   "execution_count": 16,
   "id": "bb6811af",
   "metadata": {},
   "outputs": [],
   "source": [
    "from sklearn.ensemble import RandomForestClassifier\n",
    "#min_samples_split - 노드분할을 위한 최소한의 샘플 데이터 수. 적을 수록 과적합 증가\n",
    "#min_samples_leaf - 불균형데이터일 수록 작게 설정\n",
    "#max_features - 최적분할을 위해 고려할 최대 Feature 개수 default -> sqrt(피쳐수)\n",
    "#max_depth - 트리 복잡도\n",
    "\n",
    "pipe_2 = make_pipeline(RandomForestClassifier(n_estimators=200))\n",
    "grid_values_2 = [{'randomforestclassifier__max_features': [3,5,7,9], 'randomforestclassifier__max_depth':[6,8,10,20.30]}]\n",
    "grid_2 = GridSearchCV(pipe_2, param_grid = grid_values_2,scoring = 'f1',verbose=1, cv=5)"
   ]
  },
  {
   "cell_type": "code",
   "execution_count": 17,
   "id": "eb37ec52",
   "metadata": {},
   "outputs": [
    {
     "name": "stdout",
     "output_type": "stream",
     "text": [
      "Fitting 5 folds for each of 16 candidates, totalling 80 fits\n"
     ]
    },
    {
     "data": {
      "text/plain": [
       "GridSearchCV(cv=5,\n",
       "             estimator=Pipeline(steps=[('randomforestclassifier',\n",
       "                                        RandomForestClassifier(n_estimators=200))]),\n",
       "             param_grid=[{'randomforestclassifier__max_depth': [6, 8, 10, 20.3],\n",
       "                          'randomforestclassifier__max_features': [3, 5, 7,\n",
       "                                                                   9]}],\n",
       "             scoring='f1', verbose=1)"
      ]
     },
     "execution_count": 17,
     "metadata": {},
     "output_type": "execute_result"
    }
   ],
   "source": [
    "grid_2.fit(X_train,y_train)"
   ]
  },
  {
   "cell_type": "code",
   "execution_count": 18,
   "id": "e718058c",
   "metadata": {},
   "outputs": [
    {
     "name": "stdout",
     "output_type": "stream",
     "text": [
      "0.6002478821502896\n",
      "{'randomforestclassifier__max_depth': 10, 'randomforestclassifier__max_features': 5}\n"
     ]
    }
   ],
   "source": [
    "print(grid_2.best_score_)\n",
    "print(grid_2.best_params_)"
   ]
  },
  {
   "cell_type": "markdown",
   "id": "d8f5a618",
   "metadata": {},
   "source": [
    "##### 최적 파라미터로 학습"
   ]
  },
  {
   "cell_type": "code",
   "execution_count": 19,
   "id": "17546886",
   "metadata": {},
   "outputs": [
    {
     "data": {
      "text/plain": [
       "RandomForestClassifier(max_depth=10, max_features=5, n_estimators=200)"
      ]
     },
     "execution_count": 19,
     "metadata": {},
     "output_type": "execute_result"
    }
   ],
   "source": [
    "rf = RandomForestClassifier(n_estimators=200 , max_depth=10 , max_features=5 )\n",
    "rf.fit(X_train, y_train)"
   ]
  },
  {
   "cell_type": "markdown",
   "id": "10b105e0",
   "metadata": {},
   "source": [
    "##### 훈련, 테스트 세트 log loss , roc auc 점수 파악"
   ]
  },
  {
   "cell_type": "code",
   "execution_count": 20,
   "id": "7e3cd49b",
   "metadata": {},
   "outputs": [
    {
     "name": "stdout",
     "output_type": "stream",
     "text": [
      "훈련셋 로그손실 : 0.478\n",
      "훈련셋 ROC AUC : 0.82\n"
     ]
    }
   ],
   "source": [
    "train_y_hat2=rf.predict_proba(X_train)\n",
    "rf_train_log_loss=log_loss(y_train, train_y_hat2[:,1])\n",
    "rf_train_roc_auc=roc_auc_score(y_train, train_y_hat2[:,1])\n",
    "print('훈련셋 로그손실 : ' +str(round(rf_train_log_loss, 4)))\n",
    "print('훈련셋 ROC AUC : ' +str(round(rf_train_roc_auc, 3)))"
   ]
  },
  {
   "cell_type": "code",
   "execution_count": 21,
   "id": "7aba14fb",
   "metadata": {},
   "outputs": [
    {
     "name": "stdout",
     "output_type": "stream",
     "text": [
      "테스트셋 로그손실 : 0.4909\n",
      "테스트셋 ROC AUC : 0.804\n"
     ]
    }
   ],
   "source": [
    "test_y_hat2=rf.predict_proba(X_test)\n",
    "rf_test_log_loss=log_loss(y_test, test_y_hat2[:,1])\n",
    "rf_test_roc_auc=roc_auc_score(y_test, test_y_hat2[:,1])\n",
    "print('테스트셋 로그손실 : ' +str(round(rf_test_log_loss, 4)))\n",
    "print('테스트셋 ROC AUC : ' +str(round(rf_test_roc_auc, 3)))"
   ]
  },
  {
   "cell_type": "markdown",
   "id": "4ea94cc7",
   "metadata": {},
   "source": [
    "도출된 확률과 실제 값과의 오차인 log loss 수치가 여전이 낮지 않지만 사실 상관없다.\n",
    "이진 분류가 아닌 확률 자체를 리턴하는 것이 목표이기 때문이다.\n",
    "F1 score , Roc 수치가 로지스틱 분류 방법에 비해 개선되었다."
   ]
  },
  {
   "cell_type": "markdown",
   "id": "f588b109",
   "metadata": {},
   "source": [
    "##### ROC_AUC Curve"
   ]
  },
  {
   "cell_type": "code",
   "execution_count": 22,
   "id": "ec0083fd",
   "metadata": {},
   "outputs": [],
   "source": [
    "train_fpr2, train_tpr2, train_thresholds2 = roc_curve(y_true=y_train, y_score=train_y_hat2[:,1])\n",
    "test_fpr2, test_tpr2, test_thresholds2 = roc_curve(y_true=y_test, y_score=test_y_hat2[:,1])"
   ]
  },
  {
   "cell_type": "code",
   "execution_count": 23,
   "id": "b8603cbb",
   "metadata": {},
   "outputs": [
    {
     "data": {
      "image/png": "[encoded data removed]",
      "text/plain": [
       "<Figure size 432x288 with 1 Axes>"
      ]
     },
     "metadata": {
      "needs_background": "light"
     },
     "output_type": "display_data"
    }
   ],
   "source": [
    "plt.plot(train_fpr2, train_tpr2, label='Train ROC AUC')\n",
    "plt.plot(test_fpr2, test_tpr2, label='Test ROC AUC')\n",
    "plt.plot([0, 1], [0, 1], color = 'black', linewidth = 2, linestyle = '--')\n",
    "plt.xlabel('FP Rate')\n",
    "plt.ylabel('TP Rate')\n",
    "plt.legend()\n",
    "plt.title('ROC AUC Curve RandomForest Model Train vs Test')\n",
    "plt.show()"
   ]
  },
  {
   "cell_type": "markdown",
   "id": "b0effb8a",
   "metadata": {},
   "source": [
    "##### Calibration Curve"
   ]
  },
  {
   "cell_type": "code",
   "execution_count": 24,
   "id": "51aad276",
   "metadata": {},
   "outputs": [],
   "source": [
    "rf_ytest_prob = rf.predict_proba(X_test)[: , 1]"
   ]
  },
  {
   "cell_type": "code",
   "execution_count": 25,
   "id": "02bb228e",
   "metadata": {},
   "outputs": [
    {
     "data": {
      "text/plain": [
       "Text(0.5, 1.0, 'RandomForest Calibration Curve')"
      ]
     },
     "execution_count": 25,
     "metadata": {},
     "output_type": "execute_result"
    },
    {
     "data": {
      "image/png": "[encoded data removed]",
      "text/plain": [
       "<Figure size 432x288 with 1 Axes>"
      ]
     },
     "metadata": {
      "needs_background": "light"
     },
     "output_type": "display_data"
    }
   ],
   "source": [
    "\n",
    "fraction_of_positives2, mean_predicted_values2 = calibration_curve(y_test, rf_ytest_prob, n_bins=10)\n",
    "plt.plot(mean_predicted_values2, fraction_of_positives2, 's-')\n",
    "plt.plot([0, 1], [0, 1], '--', color='gray')\n",
    "plt.title('RandomForest Calibration Curve')"
   ]
  },
  {
   "cell_type": "markdown",
   "id": "4c312742",
   "metadata": {},
   "source": [
    "Calibration Curve 가 안정적인 45도 선형을 유지하는 것을 알 수 있다.\n",
    "로지스틱 분류와 비교했을 때 실제확률을 보다 잘 예측한다고 볼 수 있다."
   ]
  },
  {
   "cell_type": "markdown",
   "id": "68f440f8",
   "metadata": {},
   "source": [
    "##### Feature Importance"
   ]
  },
  {
   "cell_type": "code",
   "execution_count": 26,
   "id": "f7da67b5",
   "metadata": {},
   "outputs": [
    {
     "data": {
      "image/png": "[encoded data removed]",
      "text/plain": [
       "<Figure size 576x432 with 1 Axes>"
      ]
     },
     "metadata": {
      "needs_background": "light"
     },
     "output_type": "display_data"
    }
   ],
   "source": [
    "importances_values = rf.feature_importances_\n",
    "importances = pd.Series(importances_values, index=X_train.columns)\n",
    "top = importances.sort_values(ascending=False)[:20]\n",
    "plt.figure(figsize=(8, 6))\n",
    "plt.title('Feature Importance')\n",
    "sns.barplot(x = top, y = top.index)\n",
    "plt.show()"
   ]
  },
  {
   "cell_type": "code",
   "execution_count": null,
   "id": "320b6261",
   "metadata": {},
   "outputs": [],
   "source": []
  },
  {
   "cell_type": "markdown",
   "id": "e332c52c",
   "metadata": {},
   "source": [
    "##### Xgboost"
   ]
  },
  {
   "cell_type": "code",
   "execution_count": null,
   "id": "83be7ef2",
   "metadata": {},
   "outputs": [],
   "source": [
    "#..."
   ]
  },
  {
   "cell_type": "markdown",
   "id": "e2a2fd61",
   "metadata": {},
   "source": [
    "##### Precision_Recall_Curve  Logres(blue) vs Rf(red)"
   ]
  },
  {
   "cell_type": "code",
   "execution_count": 27,
   "id": "ffe90255",
   "metadata": {},
   "outputs": [
    {
     "data": {
      "text/plain": [
       "[<matplotlib.lines.Line2D at 0x23a346477f0>]"
      ]
     },
     "execution_count": 27,
     "metadata": {},
     "output_type": "execute_result"
    },
    {
     "data": {
      "image/png": "[encoded data removed]",
      "text/plain": [
       "<Figure size 432x288 with 1 Axes>"
      ]
     },
     "metadata": {
      "needs_background": "light"
     },
     "output_type": "display_data"
    }
   ],
   "source": [
    "precisions1, recalls1, thresholds1 = metrics.precision_recall_curve(y_test, logres_ytest_prob)\n",
    "precisions2, recalls2, thresholds2 = metrics.precision_recall_curve(y_test, rf_ytest_prob)\n",
    "plt.plot(recalls1, precisions1, color='blue')\n",
    "plt.plot(recalls2, precisions2, color='red')"
   ]
  },
  {
   "cell_type": "markdown",
   "id": "a4560021",
   "metadata": {},
   "source": [
    "##### ROC Curve Logres(blue) vs Rf(red)"
   ]
  },
  {
   "cell_type": "code",
   "execution_count": 28,
   "id": "1e5b8435",
   "metadata": {},
   "outputs": [
    {
     "data": {
      "text/plain": [
       "[<matplotlib.lines.Line2D at 0x23a346a83d0>]"
      ]
     },
     "execution_count": 28,
     "metadata": {},
     "output_type": "execute_result"
    },
    {
     "data": {
      "image/png": "[encoded data removed]",
      "text/plain": [
       "<Figure size 432x288 with 1 Axes>"
      ]
     },
     "metadata": {
      "needs_background": "light"
     },
     "output_type": "display_data"
    }
   ],
   "source": [
    "fprs1, tprs1, thresholds1 = metrics.roc_curve(y_test, logres_ytest_prob)\n",
    "fprs2, tprs2, thresholds2 = metrics.roc_curve(y_test, rf_ytest_prob)\n",
    "plt.plot(fprs1, tprs1, color='blue')\n",
    "plt.plot(fprs2, tprs2, color='red')"
   ]
  },
  {
   "cell_type": "code",
   "execution_count": 29,
   "id": "f90d2bf4",
   "metadata": {},
   "outputs": [],
   "source": [
    "from sklearn.metrics import classification_report"
   ]
  },
  {
   "cell_type": "markdown",
   "id": "db81500a",
   "metadata": {},
   "source": [
    "##### 로지스틱 분류 report "
   ]
  },
  {
   "cell_type": "code",
   "execution_count": 30,
   "id": "0885ce54",
   "metadata": {},
   "outputs": [
    {
     "name": "stdout",
     "output_type": "stream",
     "text": [
      "              precision    recall  f1-score   support\n",
      "\n",
      "           0       0.71      0.88      0.79     37992\n",
      "           1       0.55      0.28      0.38     19102\n",
      "\n",
      "    accuracy                           0.68     57094\n",
      "   macro avg       0.63      0.58      0.58     57094\n",
      "weighted avg       0.66      0.68      0.65     57094\n",
      "\n",
      "\n",
      "f1 스코어 :  0.37541907164829086\n"
     ]
    }
   ],
   "source": [
    "pred_logres = logres.predict(X_test)\n",
    "print(classification_report(y_test , pred_logres))\n",
    "print(\"\\nf1 스코어 : \" , f1_score(y_test , pred_logres))"
   ]
  },
  {
   "cell_type": "markdown",
   "id": "df0ae1a1",
   "metadata": {},
   "source": [
    "##### 랜덤포레스트  report \n",
    "\n",
    "Precision은 0또는1이라고 분류했을 때 실제 0 또는 1인 비율을 말한다.\n",
    "recall은 실제 0또는1일 때 0 또는 1로 분류한 비율을 말한다.\n",
    "report에 의하면 실제로 득점이었을 슈팅을 득점으로 분류한 비율(hit rate)은 55% 이다."
   ]
  },
  {
   "cell_type": "code",
   "execution_count": 31,
   "id": "7d5cc86e",
   "metadata": {},
   "outputs": [
    {
     "name": "stdout",
     "output_type": "stream",
     "text": [
      "              precision    recall  f1-score   support\n",
      "\n",
      "           0       0.79      0.87      0.83     37992\n",
      "           1       0.68      0.55      0.61     19102\n",
      "\n",
      "    accuracy                           0.76     57094\n",
      "   macro avg       0.74      0.71      0.72     57094\n",
      "weighted avg       0.75      0.76      0.75     57094\n",
      "\n",
      "\n",
      "f1 스코어 :  0.605881500796755\n"
     ]
    }
   ],
   "source": [
    "pred_rf = rf.predict(X_test)\n",
    "print(classification_report(y_test , pred_rf))\n",
    "print(\"\\nf1 스코어 : \" , f1_score(y_test , pred_rf))"
   ]
  },
  {
   "cell_type": "markdown",
   "id": "dc9987ec",
   "metadata": {},
   "source": []
  },
  {
   "cell_type": "markdown",
   "id": "8333e544",
   "metadata": {},
   "source": [
    "우선 랜덤 포레스트 모델을 선택하고 \n",
    "분류에 있어 또 다른 좋은 성능을 내는 XgBoost 방법도 향후 고려해보기로 한다.  \n",
    "\n",
    "RandomForest - Bagging - 중복 허용 랜덤 샘플링\n",
    " \n",
    "XgBoost - Boosting - 약한 예측 모형들의 학습 에러에 가중치를 두고, 순차적으로 다음 학습 모델에 반영 "
   ]
  },
  {
   "cell_type": "markdown",
   "id": "8539b41a",
   "metadata": {},
   "source": [
    "##### Xg 결과 저장"
   ]
  },
  {
   "cell_type": "code",
   "execution_count": 32,
   "id": "5ec3d2c8",
   "metadata": {},
   "outputs": [],
   "source": [
    "##결과 저장\n",
    "## assist\tasx\tasy\tfin\thed\tinv\tnom\tres\tx\ty\n",
    "model_input = DATA[['assist','asx','asy','fin','hed','inv','nom','x','y']]\n",
    "xG=rf.predict_proba(model_input)[:,1]\n",
    "xG=np.around(xG,3)\n",
    "DATA['xG']=xG\n",
    "DATA.to_csv('xgresult.csv',index=False)"
   ]
  },
  {
   "cell_type": "code",
   "execution_count": 33,
   "id": "814e0064",
   "metadata": {},
   "outputs": [
    {
     "data": {
      "text/html": [
       "<div>\n",
       "<style scoped>\n",
       "    .dataframe tbody tr th:only-of-type {\n",
       "        vertical-align: middle;\n",
       "    }\n",
       "\n",
       "    .dataframe tbody tr th {\n",
       "        vertical-align: top;\n",
       "    }\n",
       "\n",
       "    .dataframe thead th {\n",
       "        text-align: right;\n",
       "    }\n",
       "</style>\n",
       "<table border=\"1\" class=\"dataframe\">\n",
       "  <thead>\n",
       "    <tr style=\"text-align: right;\">\n",
       "      <th></th>\n",
       "      <th>assist</th>\n",
       "      <th>asx</th>\n",
       "      <th>asy</th>\n",
       "      <th>fin</th>\n",
       "      <th>hed</th>\n",
       "      <th>inv</th>\n",
       "      <th>nom</th>\n",
       "      <th>res</th>\n",
       "      <th>x</th>\n",
       "      <th>y</th>\n",
       "      <th>xG</th>\n",
       "    </tr>\n",
       "  </thead>\n",
       "  <tbody>\n",
       "    <tr>\n",
       "      <th>0</th>\n",
       "      <td>0</td>\n",
       "      <td>0.0</td>\n",
       "      <td>0.0</td>\n",
       "      <td>0</td>\n",
       "      <td>0</td>\n",
       "      <td>18</td>\n",
       "      <td>1</td>\n",
       "      <td>0</td>\n",
       "      <td>0.810456</td>\n",
       "      <td>0.401598</td>\n",
       "      <td>0.094</td>\n",
       "    </tr>\n",
       "    <tr>\n",
       "      <th>1</th>\n",
       "      <td>0</td>\n",
       "      <td>0.0</td>\n",
       "      <td>0.0</td>\n",
       "      <td>0</td>\n",
       "      <td>1</td>\n",
       "      <td>4</td>\n",
       "      <td>0</td>\n",
       "      <td>0</td>\n",
       "      <td>0.876681</td>\n",
       "      <td>0.497257</td>\n",
       "      <td>0.019</td>\n",
       "    </tr>\n",
       "    <tr>\n",
       "      <th>2</th>\n",
       "      <td>0</td>\n",
       "      <td>0.0</td>\n",
       "      <td>0.0</td>\n",
       "      <td>0</td>\n",
       "      <td>0</td>\n",
       "      <td>12</td>\n",
       "      <td>1</td>\n",
       "      <td>0</td>\n",
       "      <td>0.735775</td>\n",
       "      <td>0.395596</td>\n",
       "      <td>0.041</td>\n",
       "    </tr>\n",
       "    <tr>\n",
       "      <th>3</th>\n",
       "      <td>0</td>\n",
       "      <td>0.0</td>\n",
       "      <td>0.0</td>\n",
       "      <td>0</td>\n",
       "      <td>0</td>\n",
       "      <td>2</td>\n",
       "      <td>1</td>\n",
       "      <td>1</td>\n",
       "      <td>0.870968</td>\n",
       "      <td>0.551670</td>\n",
       "      <td>0.109</td>\n",
       "    </tr>\n",
       "    <tr>\n",
       "      <th>4</th>\n",
       "      <td>0</td>\n",
       "      <td>0.0</td>\n",
       "      <td>0.0</td>\n",
       "      <td>0</td>\n",
       "      <td>1</td>\n",
       "      <td>11</td>\n",
       "      <td>0</td>\n",
       "      <td>0</td>\n",
       "      <td>0.924941</td>\n",
       "      <td>0.417424</td>\n",
       "      <td>0.006</td>\n",
       "    </tr>\n",
       "  </tbody>\n",
       "</table>\n",
       "</div>"
      ],
      "text/plain": [
       "   assist  asx  asy  fin  hed  inv  nom  res         x         y     xG\n",
       "0       0  0.0  0.0    0    0   18    1    0  0.810456  0.401598  0.094\n",
       "1       0  0.0  0.0    0    1    4    0    0  0.876681  0.497257  0.019\n",
       "2       0  0.0  0.0    0    0   12    1    0  0.735775  0.395596  0.041\n",
       "3       0  0.0  0.0    0    0    2    1    1  0.870968  0.551670  0.109\n",
       "4       0  0.0  0.0    0    1   11    0    0  0.924941  0.417424  0.006"
      ]
     },
     "execution_count": 33,
     "metadata": {},
     "output_type": "execute_result"
    }
   ],
   "source": [
    "DATA.head()"
   ]
  },
  {
   "cell_type": "code",
   "execution_count": null,
   "id": "9b592853",
   "metadata": {},
   "outputs": [],
   "source": []
  }
 ],
 "metadata": {
  "kernelspec": {
   "display_name": "Python 3",
   "language": "python",
   "name": "python3"
  },
  "language_info": {
   "codemirror_mode": {
    "name": "ipython",
    "version": 3
   },
   "file_extension": ".py",
   "mimetype": "text/x-python",
   "name": "python",
   "nbconvert_exporter": "python",
   "pygments_lexer": "ipython3",
   "version": "3.8.8"
  }
 },
 "nbformat": 4,
 "nbformat_minor": 5
}
