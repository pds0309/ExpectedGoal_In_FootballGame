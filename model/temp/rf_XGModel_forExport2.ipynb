{
 "cells": [
  {
   "cell_type": "code",
   "execution_count": 1,
   "id": "8dcd1226",
   "metadata": {},
   "outputs": [],
   "source": [
    "from sklearn.model_selection import train_test_split\n",
    "from sklearn.ensemble import RandomForestClassifier\n",
    "import pickle\n",
    "import numpy as np\n",
    "import pandas as pd\n",
    "import matplotlib.pyplot as plt\n",
    "import seaborn as sns"
   ]
  },
  {
   "cell_type": "code",
   "execution_count": 2,
   "id": "affce8b3",
   "metadata": {},
   "outputs": [
    {
     "data": {
      "text/html": [
       "<div>\n",
       "<style scoped>\n",
       "    .dataframe tbody tr th:only-of-type {\n",
       "        vertical-align: middle;\n",
       "    }\n",
       "\n",
       "    .dataframe tbody tr th {\n",
       "        vertical-align: top;\n",
       "    }\n",
       "\n",
       "    .dataframe thead th {\n",
       "        text-align: right;\n",
       "    }\n",
       "</style>\n",
       "<table border=\"1\" class=\"dataframe\">\n",
       "  <thead>\n",
       "    <tr style=\"text-align: right;\">\n",
       "      <th></th>\n",
       "      <th>assist</th>\n",
       "      <th>asx</th>\n",
       "      <th>asy</th>\n",
       "      <th>fin</th>\n",
       "      <th>hed</th>\n",
       "      <th>inv</th>\n",
       "      <th>nom</th>\n",
       "      <th>res</th>\n",
       "      <th>x</th>\n",
       "      <th>y</th>\n",
       "    </tr>\n",
       "  </thead>\n",
       "  <tbody>\n",
       "    <tr>\n",
       "      <th>0</th>\n",
       "      <td>0</td>\n",
       "      <td>0.000000</td>\n",
       "      <td>0.000000</td>\n",
       "      <td>0</td>\n",
       "      <td>0</td>\n",
       "      <td>18</td>\n",
       "      <td>1</td>\n",
       "      <td>0</td>\n",
       "      <td>0.810456</td>\n",
       "      <td>0.401598</td>\n",
       "    </tr>\n",
       "    <tr>\n",
       "      <th>1</th>\n",
       "      <td>0</td>\n",
       "      <td>0.000000</td>\n",
       "      <td>0.000000</td>\n",
       "      <td>0</td>\n",
       "      <td>1</td>\n",
       "      <td>4</td>\n",
       "      <td>0</td>\n",
       "      <td>0</td>\n",
       "      <td>0.876681</td>\n",
       "      <td>0.497257</td>\n",
       "    </tr>\n",
       "    <tr>\n",
       "      <th>2</th>\n",
       "      <td>0</td>\n",
       "      <td>0.000000</td>\n",
       "      <td>0.000000</td>\n",
       "      <td>0</td>\n",
       "      <td>0</td>\n",
       "      <td>12</td>\n",
       "      <td>1</td>\n",
       "      <td>0</td>\n",
       "      <td>0.735775</td>\n",
       "      <td>0.395596</td>\n",
       "    </tr>\n",
       "    <tr>\n",
       "      <th>3</th>\n",
       "      <td>0</td>\n",
       "      <td>0.000000</td>\n",
       "      <td>0.000000</td>\n",
       "      <td>0</td>\n",
       "      <td>0</td>\n",
       "      <td>2</td>\n",
       "      <td>1</td>\n",
       "      <td>1</td>\n",
       "      <td>0.870968</td>\n",
       "      <td>0.551670</td>\n",
       "    </tr>\n",
       "    <tr>\n",
       "      <th>4</th>\n",
       "      <td>0</td>\n",
       "      <td>0.000000</td>\n",
       "      <td>0.000000</td>\n",
       "      <td>0</td>\n",
       "      <td>1</td>\n",
       "      <td>11</td>\n",
       "      <td>0</td>\n",
       "      <td>0</td>\n",
       "      <td>0.924941</td>\n",
       "      <td>0.417424</td>\n",
       "    </tr>\n",
       "    <tr>\n",
       "      <th>...</th>\n",
       "      <td>...</td>\n",
       "      <td>...</td>\n",
       "      <td>...</td>\n",
       "      <td>...</td>\n",
       "      <td>...</td>\n",
       "      <td>...</td>\n",
       "      <td>...</td>\n",
       "      <td>...</td>\n",
       "      <td>...</td>\n",
       "      <td>...</td>\n",
       "    </tr>\n",
       "    <tr>\n",
       "      <th>285464</th>\n",
       "      <td>0</td>\n",
       "      <td>0.000000</td>\n",
       "      <td>0.000000</td>\n",
       "      <td>0</td>\n",
       "      <td>0</td>\n",
       "      <td>13</td>\n",
       "      <td>1</td>\n",
       "      <td>0</td>\n",
       "      <td>0.875641</td>\n",
       "      <td>0.836167</td>\n",
       "    </tr>\n",
       "    <tr>\n",
       "      <th>285465</th>\n",
       "      <td>0</td>\n",
       "      <td>0.000000</td>\n",
       "      <td>0.000000</td>\n",
       "      <td>1</td>\n",
       "      <td>0</td>\n",
       "      <td>14</td>\n",
       "      <td>0</td>\n",
       "      <td>1</td>\n",
       "      <td>0.944847</td>\n",
       "      <td>0.510822</td>\n",
       "    </tr>\n",
       "    <tr>\n",
       "      <th>285466</th>\n",
       "      <td>1</td>\n",
       "      <td>0.859759</td>\n",
       "      <td>0.385634</td>\n",
       "      <td>0</td>\n",
       "      <td>0</td>\n",
       "      <td>22</td>\n",
       "      <td>1</td>\n",
       "      <td>1</td>\n",
       "      <td>0.904774</td>\n",
       "      <td>0.452464</td>\n",
       "    </tr>\n",
       "    <tr>\n",
       "      <th>285467</th>\n",
       "      <td>1</td>\n",
       "      <td>0.508597</td>\n",
       "      <td>0.217170</td>\n",
       "      <td>1</td>\n",
       "      <td>0</td>\n",
       "      <td>20</td>\n",
       "      <td>0</td>\n",
       "      <td>1</td>\n",
       "      <td>0.840309</td>\n",
       "      <td>0.558706</td>\n",
       "    </tr>\n",
       "    <tr>\n",
       "      <th>285468</th>\n",
       "      <td>1</td>\n",
       "      <td>0.755682</td>\n",
       "      <td>0.461865</td>\n",
       "      <td>0</td>\n",
       "      <td>0</td>\n",
       "      <td>36</td>\n",
       "      <td>1</td>\n",
       "      <td>1</td>\n",
       "      <td>0.875967</td>\n",
       "      <td>0.498029</td>\n",
       "    </tr>\n",
       "  </tbody>\n",
       "</table>\n",
       "<p>285469 rows × 10 columns</p>\n",
       "</div>"
      ],
      "text/plain": [
       "        assist       asx       asy  fin  hed  inv  nom  res         x  \\\n",
       "0            0  0.000000  0.000000    0    0   18    1    0  0.810456   \n",
       "1            0  0.000000  0.000000    0    1    4    0    0  0.876681   \n",
       "2            0  0.000000  0.000000    0    0   12    1    0  0.735775   \n",
       "3            0  0.000000  0.000000    0    0    2    1    1  0.870968   \n",
       "4            0  0.000000  0.000000    0    1   11    0    0  0.924941   \n",
       "...        ...       ...       ...  ...  ...  ...  ...  ...       ...   \n",
       "285464       0  0.000000  0.000000    0    0   13    1    0  0.875641   \n",
       "285465       0  0.000000  0.000000    1    0   14    0    1  0.944847   \n",
       "285466       1  0.859759  0.385634    0    0   22    1    1  0.904774   \n",
       "285467       1  0.508597  0.217170    1    0   20    0    1  0.840309   \n",
       "285468       1  0.755682  0.461865    0    0   36    1    1  0.875967   \n",
       "\n",
       "               y  \n",
       "0       0.401598  \n",
       "1       0.497257  \n",
       "2       0.395596  \n",
       "3       0.551670  \n",
       "4       0.417424  \n",
       "...          ...  \n",
       "285464  0.836167  \n",
       "285465  0.510822  \n",
       "285466  0.452464  \n",
       "285467  0.558706  \n",
       "285468  0.498029  \n",
       "\n",
       "[285469 rows x 10 columns]"
      ]
     },
     "execution_count": 2,
     "metadata": {},
     "output_type": "execute_result"
    }
   ],
   "source": [
    "DATA = pd.read_csv(r\"C:/shoot/SHOOTS3.csv\" , encoding = \"CP949\" , sep=\",\")\n",
    "DATA"
   ]
  },
  {
   "cell_type": "code",
   "execution_count": 3,
   "id": "382d7bb0",
   "metadata": {},
   "outputs": [
    {
     "name": "stdout",
     "output_type": "stream",
     "text": [
      "X_train :  (228375, 9)\n",
      "y_train :  (228375,)\n",
      "X_test :  (57094, 9)\n",
      "y_test :  (57094,)\n"
     ]
    }
   ],
   "source": [
    "from sklearn.model_selection import train_test_split\n",
    "X_train , X_test , y_train , y_test = train_test_split(\n",
    "DATA.drop('res', axis=1) , DATA['res'] , random_state = 0 , shuffle=False,test_size = 0.2 )\n",
    "print(\"X_train : \" , X_train.shape)\n",
    "print(\"y_train : \" , y_train.shape)\n",
    "print(\"X_test : \" , X_test.shape)\n",
    "print(\"y_test : \" , y_test.shape)"
   ]
  },
  {
   "cell_type": "code",
   "execution_count": 4,
   "id": "de0fe731",
   "metadata": {},
   "outputs": [
    {
     "data": {
      "text/plain": [
       "RandomForestClassifier(max_depth=10, max_features=5, n_estimators=200)"
      ]
     },
     "execution_count": 4,
     "metadata": {},
     "output_type": "execute_result"
    }
   ],
   "source": [
    "model = RandomForestClassifier(n_estimators=200,max_features=5,max_depth=10)\n",
    "model.fit(X_train, y_train)"
   ]
  },
  {
   "cell_type": "code",
   "execution_count": 5,
   "id": "f59c3132",
   "metadata": {},
   "outputs": [
    {
     "name": "stdout",
     "output_type": "stream",
     "text": [
      "0.6047215672575903\n"
     ]
    }
   ],
   "source": [
    "from sklearn.metrics import f1_score\n",
    "pred_forest = model.predict(X_test)\n",
    "print(f1_score(y_test , pred_forest))"
   ]
  },
  {
   "cell_type": "code",
   "execution_count": 6,
   "id": "a7ab2aaa",
   "metadata": {},
   "outputs": [
    {
     "name": "stdout",
     "output_type": "stream",
     "text": [
      "0.9128795212323007\n",
      "[1]\n"
     ]
    }
   ],
   "source": [
    "#Sample predict prob\n",
    "print(model.predict_proba([[1,0.95,0.5,0,0,6,1,0.967135,0.51876]])[0][1])\n",
    "print(model.predict([[1,0.95,0.5,0,0,6,1,0.967135,0.51876]]))"
   ]
  },
  {
   "cell_type": "code",
   "execution_count": 7,
   "id": "0cafd208",
   "metadata": {},
   "outputs": [
    {
     "data": {
      "image/png": "[encoded data removed]",
      "text/plain": [
       "<Figure size 576x432 with 1 Axes>"
      ]
     },
     "metadata": {
      "needs_background": "light"
     },
     "output_type": "display_data"
    }
   ],
   "source": [
    "importances_values = model.feature_importances_\n",
    "importances = pd.Series(importances_values, index=X_train.columns)\n",
    "top = importances.sort_values(ascending=False)[:20]\n",
    "plt.figure(figsize=(8, 6))\n",
    "plt.title('Feature Importance')\n",
    "sns.barplot(x = top, y = top.index)\n",
    "plt.show()"
   ]
  },
  {
   "cell_type": "code",
   "execution_count": 8,
   "id": "ede2c764",
   "metadata": {},
   "outputs": [
    {
     "name": "stdout",
     "output_type": "stream",
     "text": [
      "[0.10052279 0.47693921 0.2531204  ... 0.66488465 0.5367155  0.29034316]\n",
      " ROC AUC=0.804\n"
     ]
    },
    {
     "data": {
      "image/png": "[encoded data removed]",
      "text/plain": [
       "<Figure size 432x288 with 1 Axes>"
      ]
     },
     "metadata": {
      "needs_background": "light"
     },
     "output_type": "display_data"
    }
   ],
   "source": [
    "# Roc Curve\n",
    "probs = model.predict_proba(X_test)\n",
    "probs = probs[:, 1]\n",
    "print(probs)\n",
    "from sklearn.metrics import roc_curve\n",
    "from sklearn.metrics import roc_auc_score\n",
    "auc = roc_auc_score(y_test, probs)\n",
    "print(' ROC AUC=%.3f' % (auc))\n",
    "\n",
    "rf_fpr, rf_tpr, _ = roc_curve(y_test, probs)\n",
    "plt.plot(rf_fpr, rf_tpr, linestyle='--', label='randomforest')\n",
    "plt.xlabel('False Positive Rate')\n",
    "plt.ylabel('True Positive Rate')\n",
    "plt.legend()\n",
    "plt.show()"
   ]
  },
  {
   "cell_type": "code",
   "execution_count": 9,
   "id": "35ece4cc",
   "metadata": {},
   "outputs": [
    {
     "name": "stdout",
     "output_type": "stream",
     "text": [
      "(303368, 9)\n",
      "(303368,)\n"
     ]
    }
   ],
   "source": [
    "\n",
    "from imblearn.over_sampling import SMOTE\n",
    "\n",
    "#득점 상황에서의 케이스 추가\n",
    "\n",
    "X_smo_t , y_smo_t = SMOTE(random_state = 0 ).fit_resample(X_train , y_train)\n",
    "print(X_smo_t.shape)\n",
    "print(y_smo_t.shape)"
   ]
  },
  {
   "cell_type": "code",
   "execution_count": 10,
   "id": "470d7b16",
   "metadata": {},
   "outputs": [
    {
     "data": {
      "text/plain": [
       "RandomForestClassifier(max_depth=20, max_features=3, n_estimators=200)"
      ]
     },
     "execution_count": 10,
     "metadata": {},
     "output_type": "execute_result"
    }
   ],
   "source": [
    "model2 = RandomForestClassifier(n_estimators=200,max_features=3,max_depth=20)\n",
    "model2.fit(X_smo_t, y_smo_t)"
   ]
  },
  {
   "cell_type": "code",
   "execution_count": 11,
   "id": "69c65ab3",
   "metadata": {},
   "outputs": [
    {
     "name": "stdout",
     "output_type": "stream",
     "text": [
      "0.6404077628083946\n"
     ]
    }
   ],
   "source": [
    "pred_forest2 = model2.predict(X_test)\n",
    "print(f1_score(y_test , pred_forest2))"
   ]
  },
  {
   "cell_type": "code",
   "execution_count": 12,
   "id": "3cf5af62",
   "metadata": {},
   "outputs": [
    {
     "data": {
      "image/png": "[encoded data removed]",
      "text/plain": [
       "<Figure size 576x432 with 1 Axes>"
      ]
     },
     "metadata": {
      "needs_background": "light"
     },
     "output_type": "display_data"
    }
   ],
   "source": [
    "importances_values = model2.feature_importances_\n",
    "importances = pd.Series(importances_values, index=X_smo_t.columns)\n",
    "top = importances.sort_values(ascending=False)[:20]\n",
    "plt.figure(figsize=(8, 6))\n",
    "plt.title('Feature Importance')\n",
    "sns.barplot(x = top, y = top.index)\n",
    "plt.show()"
   ]
  },
  {
   "cell_type": "code",
   "execution_count": 13,
   "id": "bec348ef",
   "metadata": {},
   "outputs": [
    {
     "name": "stdout",
     "output_type": "stream",
     "text": [
      "0.9563912098000062\n",
      "[1]\n"
     ]
    }
   ],
   "source": [
    "print(model2.predict_proba([[1,0.95,0.5,0,0,6,1,0.967135,0.51876]])[0][1])\n",
    "print(model2.predict([[1,0.95,0.5,0,0,6,1,0.967135,0.51876]]))"
   ]
  },
  {
   "cell_type": "code",
   "execution_count": 19,
   "id": "205ecd63",
   "metadata": {},
   "outputs": [],
   "source": [
    "pickle.dump( model, open( \"pickle_XG.p\", \"wb\" ) )"
   ]
  }
 ],
 "metadata": {
  "kernelspec": {
   "display_name": "Python 3",
   "language": "python",
   "name": "python3"
  },
  "language_info": {
   "codemirror_mode": {
    "name": "ipython",
    "version": 3
   },
   "file_extension": ".py",
   "mimetype": "text/x-python",
   "name": "python",
   "nbconvert_exporter": "python",
   "pygments_lexer": "ipython3",
   "version": "3.8.8"
  }
 },
 "nbformat": 4,
 "nbformat_minor": 5
}
